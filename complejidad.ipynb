{
 "cells": [
  {
   "cell_type": "markdown",
   "metadata": {},
   "source": [
    "**Complejidad Algoritmica con Python**"
   ]
  },
  {
   "cell_type": "markdown",
   "metadata": {},
   "source": [
    "Comparando tiempos de ejecución entre programas en python: mediante la función del módulo time de Python podemos ver cuánto tiempo tarda en ejecutarse el algoritmo"
   ]
  },
  {
   "cell_type": "code",
   "execution_count": 10,
   "metadata": {},
   "outputs": [
    {
     "name": "stdout",
     "output_type": "stream",
     "text": [
      "**Resultado del Factorial\n",
      "788657867364790503552363213932185062295135977687173263294742533244359449963403342920304284011984623904177212138919638830257642790242637105061926624952829931113462857270763317237396988943922445621451664240254033291864131227428294853277524242407573903240321257405579568660226031904170324062351700858796178922222789623703897374720000000000000000000000000000000000000000000000000\n",
      "**Medida del tiempo de ejecución**\n",
      "0.0010194778442382812\n",
      "**Ejecutando otra operación del factorial**\n",
      "788657867364790503552363213932185062295135977687173263294742533244359449963403342920304284011984623904177212138919638830257642790242637105061926624952829931113462857270763317237396988943922445621451664240254033291864131227428294853277524242407573903240321257405579568660226031904170324062351700858796178922222789623703897374720000000000000000000000000000000000000000000000000\n",
      "788657867364790503552363213932185062295135977687173263294742533244359449963403342920304284011984623904177212138919638830257642790242637105061926624952829931113462857270763317237396988943922445621451664240254033291864131227428294853277524242407573903240321257405579568660226031904170324062351700858796178922222789623703897374720000000000000000000000000000000000000000000000000\n",
      "**Resultado del tiempo de ejecución del factorial recursivo**\n",
      "0.001003265380859375\n"
     ]
    }
   ],
   "source": [
    "import time\n",
    "\n",
    "def factorial(n):\n",
    "    respuesta = 1\n",
    "\n",
    "    while n > 1:\n",
    "        respuesta *= n\n",
    "        n -= 1\n",
    "\n",
    "    return respuesta\n",
    "\n",
    "def fatorial_recursivo(n):\n",
    "    if n == 1:\n",
    "        return 1\n",
    "    \n",
    "    return n * fatorial_recursivo(n - 1)\n",
    "\n",
    "\n",
    "n = 200\n",
    "\n",
    "#Medir el tiempo de ejecución\n",
    "comienzo = time.time()\n",
    "print(\"**Resultado del Factorial\")\n",
    "print(factorial(n))\n",
    "final = time.time()\n",
    "print(\"**Medida del tiempo de ejecución**\")\n",
    "print(final - comienzo)\n",
    "\n",
    "print(\"**Ejecutando otra operación del factorial**\")\n",
    "print(fatorial_recursivo(n))\n",
    "\n",
    "comienzo = time.time()\n",
    "print(fatorial_recursivo(n))\n",
    "final = time.time()\n",
    "print(\"**Resultado del tiempo de ejecución del factorial recursivo**\")\n",
    "print(final - comienzo)"
   ]
  },
  {
   "cell_type": "markdown",
   "metadata": {},
   "source": [
    "**Abstracción**\n",
    "- Los rangos pueden depender del parámetros de una función.\n",
    "- Se trata de contar cuántas operaciones suceden en el programa."
   ]
  },
  {
   "cell_type": "code",
   "execution_count": 11,
   "metadata": {},
   "outputs": [
    {
     "data": {
      "text/plain": [
       "1075"
      ]
     },
     "execution_count": 11,
     "metadata": {},
     "output_type": "execute_result"
    }
   ],
   "source": [
    "def f(x):\n",
    "    respuesta = 0\n",
    "\n",
    "    for i in range(1000):\n",
    "        respuesta += 1\n",
    "\n",
    "    for i in range(x):\n",
    "        respuesta += x\n",
    "    \n",
    "    for i in range(x):\n",
    "        for j in range(x):\n",
    "            respuesta += 1\n",
    "            respuesta += 1\n",
    "    \n",
    "    return respuesta\n",
    "\n",
    "#Prueba de la función\n",
    "f(5)\n"
   ]
  },
  {
   "cell_type": "markdown",
   "metadata": {},
   "source": [
    "**Ley de la Suma**\n",
    "\n",
    "La ley de la suma es que el resultado de agregar dos números juntos es igual al resultado de dividir"
   ]
  },
  {
   "cell_type": "code",
   "execution_count": 12,
   "metadata": {},
   "outputs": [
    {
     "name": "stdout",
     "output_type": "stream",
     "text": [
      "0\n",
      "1\n",
      "2\n",
      "3\n",
      "4\n",
      "5\n",
      "6\n",
      "7\n",
      "0\n",
      "1\n",
      "2\n",
      "3\n",
      "4\n",
      "5\n",
      "6\n",
      "7\n"
     ]
    }
   ],
   "source": [
    "#La ley de la suma\n",
    "\n",
    "def f(n):\n",
    "    for i in range(n):\n",
    "        print(i)\n",
    "    \n",
    "    for i in range(n):\n",
    "        print(i)\n",
    "\n",
    "f(8)\n",
    "\n",
    "#Forma como crece la función\n",
    "#O(n) + O(n) = O(n + n) = O(2n) = O(n) -> La función crece en O(n)"
   ]
  },
  {
   "cell_type": "code",
   "execution_count": 13,
   "metadata": {},
   "outputs": [
    {
     "name": "stdout",
     "output_type": "stream",
     "text": [
      "0\n",
      "1\n",
      "2\n",
      "3\n",
      "0\n",
      "1\n",
      "2\n",
      "3\n",
      "4\n",
      "5\n",
      "6\n",
      "7\n",
      "8\n",
      "9\n",
      "10\n",
      "11\n",
      "12\n",
      "13\n",
      "14\n",
      "15\n"
     ]
    }
   ],
   "source": [
    "#Ley de la suma 2\n",
    "\n",
    "def f(n):\n",
    "    for i in range(n):\n",
    "        print(i)\n",
    "    \n",
    "    for i in range(n * n):\n",
    "        print(i)\n",
    "\n",
    "f(4)\n",
    "\n",
    "#Forma de estructura\n",
    "#O(n) + O(n * n) = O(n + n^2) = O(n^2)"
   ]
  },
  {
   "cell_type": "code",
   "execution_count": 14,
   "metadata": {},
   "outputs": [
    {
     "name": "stdout",
     "output_type": "stream",
     "text": [
      "0 0\n",
      "0 1\n",
      "0 2\n",
      "0 3\n",
      "0 4\n",
      "1 0\n",
      "1 1\n",
      "1 2\n",
      "1 3\n",
      "1 4\n",
      "2 0\n",
      "2 1\n",
      "2 2\n",
      "2 3\n",
      "2 4\n",
      "3 0\n",
      "3 1\n",
      "3 2\n",
      "3 3\n",
      "3 4\n",
      "4 0\n",
      "4 1\n",
      "4 2\n",
      "4 3\n",
      "4 4\n"
     ]
    }
   ],
   "source": [
    "#Ley de la multiplicación\n",
    "\n",
    "def f(n):\n",
    "\n",
    "    for i in range(n):\n",
    "\n",
    "        for j in range(n):\n",
    "            print(i, j)\n",
    "            \n",
    "\n",
    "#O(n) * O(n) = O(n * n) = O(n^2)\n",
    "            \n",
    "f(5)"
   ]
  },
  {
   "cell_type": "code",
   "execution_count": 15,
   "metadata": {},
   "outputs": [],
   "source": [
    "#Recursividad múltiple\n",
    "\n",
    "def fibonacci(n):\n",
    "    if n == 0 or n == 1:\n",
    "        return 1\n",
    "    \n",
    "    return fibonacci(n - 1) + fibonacci (n - 2)\n",
    "\n",
    "# O(2**n)"
   ]
  },
  {
   "cell_type": "markdown",
   "metadata": {},
   "source": [
    "**Ejemplo del algoritmo insertion sort implementada en notación Big O**"
   ]
  },
  {
   "cell_type": "code",
   "execution_count": 16,
   "metadata": {},
   "outputs": [
    {
     "name": "stdout",
     "output_type": "stream",
     "text": [
      "4\n",
      "3\n",
      "4\n",
      "0\n"
     ]
    }
   ],
   "source": [
    "#Creamos una lista de números\n",
    "numeros = [5, 3, 4, 8, 7, 5, 1, 2, 3] #1\n",
    "#Recorremos el arreglo\n",
    "j = 1 # 1\n",
    "for j in numeros: # n\n",
    "    actual = numeros[j] #n\n",
    "\n",
    "    i = j - 1 # n\n",
    "    while i >= 0 and numeros[i] > actual: #n^2\n",
    "        print(i) #n^2\n",
    "        i = i - 1\n",
    "\n",
    "    numeros[i + 1] = actual # n\n",
    "\n",
    "#Expresión de notación big O\n",
    "    #2n^2 + 4n + 1\n"
   ]
  },
  {
   "cell_type": "markdown",
   "metadata": {},
   "source": [
    "**Búsqueda lineal**\n",
    "\n",
    "Es una técnica para buscar un elemento dentro de un arreglo  y retornar el valor de la posición donde lo encontramos en caso de encontrarlo."
   ]
  },
  {
   "cell_type": "code",
   "execution_count": 17,
   "metadata": {},
   "outputs": [
    {
     "name": "stdout",
     "output_type": "stream",
     "text": [
      "Elemento no encontrado\n",
      "[11, 73, 17, 62, 77]\n",
      "El elemento 1 No está en la lista\n"
     ]
    }
   ],
   "source": [
    "import random\n",
    "def busqueda_lineal(lista, objetivo):\n",
    "    match = False\n",
    "\n",
    "    for i in lista: #O(n) es lineal\n",
    "        if i == objetivo:\n",
    "            print(\"Elemento encontrado\")\n",
    "            match = True\n",
    "        else:\n",
    "            print(\"Elemento no encontrado\")\n",
    "        break\n",
    "\n",
    "    return match\n",
    "\n",
    "if __name__ == '__main__':\n",
    "    num_lista = int(input('¿De qué tamaño será la lista?'))\n",
    "    objetivo = int(input('¿Cuál es el número a encontrar?'))\n",
    "\n",
    "    lista = [random.randint(0, 100) for i in range(num_lista)]\n",
    "    encontrado = busqueda_lineal(lista, objetivo)\n",
    "    print(lista)\n",
    "\n",
    "    print(f'El elemento {objetivo} {\"esta\" if encontrado else \"No está\"} en la lista')"
   ]
  },
  {
   "cell_type": "markdown",
   "metadata": {},
   "source": [
    "**Búsqueda binaria**\n",
    "* Divide y conquista\n",
    "* El problema se divide en 2 en cada iteración\n",
    "* ¿Cuál es el peor caso?"
   ]
  },
  {
   "cell_type": "code",
   "execution_count": 18,
   "metadata": {},
   "outputs": [
    {
     "name": "stdout",
     "output_type": "stream",
     "text": [
      "Buscando el 2 entre 18 y 98\n",
      "Buscando el 2 entre 18 y 18\n",
      "Buscando el 2 entre 18 y 84\n",
      "[18, 32, 37, 84, 98]\n",
      "El elemento 2 no esta en la lista\n"
     ]
    }
   ],
   "source": [
    "import random\n",
    "\n",
    "def busqueda_binaria(lista, comienzo, final, objetivo):\n",
    "    print(f'Buscando el {objetivo} entre {lista[comienzo]} y {lista[final - 1]}')\n",
    "\n",
    "    if comienzo > final:\n",
    "        return False\n",
    "        print(\"Elemento no encontrado\")\n",
    "\n",
    "    medio = (comienzo + final) // 2\n",
    "\n",
    "    if lista[medio] == objetivo:\n",
    "        return True\n",
    "        print(\"Elemento encontrado\")\n",
    "    elif lista[medio] < objetivo:\n",
    "        return busqueda_binaria(lista, medio+1, final, objetivo)\n",
    "    else:\n",
    "        return busqueda_binaria(lista, comienzo, medio-1, objetivo)\n",
    "\n",
    "\n",
    "\n",
    "num_lista = int(input('¿De qué tamaño es la lista?'))\n",
    "objetivo = int(input('¿Cuál es el número que quieres encontrar?'))\n",
    "\n",
    "lista = sorted([random.randint(0, 100) for i in range(num_lista)])\n",
    "#Sorted ordena la lista de tal forma que la búsqueda binaria logre recibirla\n",
    "\n",
    "encontrado = busqueda_binaria(lista, 0, len(lista), objetivo)\n",
    "\n",
    "print(lista)\n",
    "print(f'El elemento {objetivo}{\" esta \" if encontrado else \" no esta\"} en la lista')"
   ]
  },
  {
   "cell_type": "markdown",
   "metadata": {},
   "source": [
    "**Ordenamiento por burbuja**\n",
    "* Se itera sobre los elementos de cada lista y se compara dependiendo de una condición."
   ]
  },
  {
   "cell_type": "code",
   "execution_count": 29,
   "metadata": {},
   "outputs": [
    {
     "name": "stdout",
     "output_type": "stream",
     "text": [
      "Lista original:  [0, 54, 66, 63, 64, 36, 66, 99]\n",
      "Lista ordenada:  [0, 36, 54, 63, 64, 66, 66, 99]\n"
     ]
    }
   ],
   "source": [
    "import random\n",
    "\n",
    "def ordenamiento_de_burbuja(lista):\n",
    "    n = len(lista)\n",
    "\n",
    "    for i in range(n): #Se recorre la lista n veces\n",
    "        #j elemento que se evalúa\n",
    "        #j+1 elemento siguiente\n",
    "        #se compara j y j+1 y si j+1 es menor se intercambia, de lo contrario se deja en la posición original\n",
    "        for j in range(0, n - i - 1): # O(n) * O(n) = O(n*n) = O(n**2)\n",
    "            #Se comparan los elementos adyacentes\n",
    "            if lista[j] > lista[j + 1]: #Condición que se evalúa para ordenar\n",
    "                #Si el elemento de la izquierda es mayor al de la derecha se intercambian\n",
    "                lista[j], lista[j + 1] = lista[j + 1], lista[j]\n",
    "    return lista\n",
    "\n",
    "size_lista = int(input('¿De qué tamaño será la lista?'))\n",
    "lista = [random.randint(0, 100) for i in range(size_lista)]\n",
    "print(\"Lista original: \", lista)\n",
    "\n",
    "lista_ordenada = ordenamiento_de_burbuja(lista)\n",
    "print(\"Lista ordenada: \", lista_ordenada)"
   ]
  },
  {
   "cell_type": "markdown",
   "metadata": {},
   "source": [
    "**Ordenamiento por inserción**\n",
    "* Se trata de crear una \"sublista\" de elementos temporales, y comparar cada elemento de esa lista, con el de la original para saber la posición de ese elemento"
   ]
  },
  {
   "cell_type": "code",
   "execution_count": 40,
   "metadata": {},
   "outputs": [
    {
     "name": "stdout",
     "output_type": "stream",
     "text": [
      "Arreglo de puntajes:  [23, 14, 38, 20]\n",
      "Antes de operación\n",
      "14\n",
      "Después de la operación\n",
      "23\n",
      "Antes de operación\n",
      "20\n",
      "Después de la operación\n",
      "38\n",
      "Antes de operación\n",
      "38\n",
      "Después de la operación\n",
      "23\n",
      "Arreglo ordenado [14, 20, 23, 38]\n"
     ]
    }
   ],
   "source": [
    "def insertSort(lista):\n",
    "    size = len(lista)\n",
    "    for i in range(1, size):\n",
    "        insert_value = lista[i] #Toma el siguiente valor a ser insertado\n",
    "        insert_index = i #Toma el indice\n",
    "\n",
    "        #Bucle para la iteración en reversa\n",
    "        while insert_index > 0 and lista[insert_index - 1] > insert_value:\n",
    "            print(\"Antes de operación\")\n",
    "            print(lista[insert_index])\n",
    "            lista[insert_index] = lista[insert_index -1]\n",
    "            insert_index -= 1\n",
    "            print(\"Después de la operación\")\n",
    "            print(lista[insert_index])\n",
    "\n",
    "        #Hacer la insersion\n",
    "        lista[insert_index] = insert_value\n",
    "    \n",
    "    return lista\n",
    "\n",
    "\n",
    "\n",
    "size_puntajes = int(input(\"¿De qué tamaño será el arreglo?\"))\n",
    "puntajes = [random.randint(0, 100) for i in range(size_puntajes)]\n",
    "print(\"Arreglo de puntajes: \", puntajes)    \n",
    "print(\"Arreglo ordenado\",insertSort(puntajes))\n"
   ]
  },
  {
   "cell_type": "code",
   "execution_count": 49,
   "metadata": {},
   "outputs": [
    {
     "name": "stdout",
     "output_type": "stream",
     "text": [
      "Arreglo de puntajes:  [55, 0, 50, 74, 69]\n",
      "Sublista ordenada hasta el índice 0: [55]\n",
      "Antes de operación\n",
      "0\n",
      "Después de la operación\n",
      "55\n",
      "Sublista ordenada hasta el índice 1: [0, 55]\n",
      "Antes de operación\n",
      "50\n",
      "Después de la operación\n",
      "55\n",
      "Sublista ordenada hasta el índice 2: [0, 50, 55]\n",
      "Sublista ordenada hasta el índice 3: [0, 50, 55, 74]\n",
      "Antes de operación\n",
      "69\n",
      "Después de la operación\n",
      "74\n",
      "Arreglo ordenado [0, 50, 55, 69, 74]\n"
     ]
    }
   ],
   "source": [
    "def insertSort(lista):\n",
    "    size = len(lista)\n",
    "    for i in range(1, size):\n",
    "        print(f\"Sublista ordenada hasta el índice {i - 1}: {lista[:i]}\")\n",
    "        insert_value = lista[i] #Toma el siguiente valor a ser insertado\n",
    "        insert_index = i #Toma el indice\n",
    "\n",
    "        #Bucle para la iteración en reversa\n",
    "        while insert_index > 0 and lista[insert_index - 1] > insert_value:\n",
    "            print(\"Antes de operación\")\n",
    "            print(lista[insert_index])\n",
    "            lista[insert_index] = lista[insert_index -1] #El -1 es para mover la posición a la izquierda\n",
    "            insert_index -= 1\n",
    "            print(\"Después de la operación\")\n",
    "            print(lista[insert_index])\n",
    "\n",
    "        #Hacer la insersion\n",
    "        lista[insert_index] = insert_value\n",
    "    \n",
    "    return lista\n",
    "\n",
    "\n",
    "\n",
    "size_puntajes = int(input(\"¿De qué tamaño será el arreglo?\"))\n",
    "puntajes = [random.randint(0, 100) for i in range(size_puntajes)]\n",
    "print(\"Arreglo de puntajes: \", puntajes)    \n",
    "print(\"Arreglo ordenado\",insertSort(puntajes))\n"
   ]
  },
  {
   "cell_type": "markdown",
   "metadata": {},
   "source": [
    "**Ordenamiento por mezcla**"
   ]
  },
  {
   "cell_type": "markdown",
   "metadata": {},
   "source": [
    "* Se generan listas cada vez más pequeñas, usando el principio \"Divide y Conquista\""
   ]
  },
  {
   "cell_type": "code",
   "execution_count": 59,
   "metadata": {},
   "outputs": [
    {
     "name": "stdout",
     "output_type": "stream",
     "text": [
      "[98, 6, 61, 68, 64, 4, 75, 16, 66, 78]\n",
      "--------------------\n",
      "Izquierda [98, 6, 61, 68, 64] ----- Derecha [4, 75, 16, 66, 78]\n",
      "Izquierda [98, 6] ----- Derecha [61, 68, 64]\n",
      "Izquierda [98] ----- Derecha [6]\n",
      "Izquierda [61] ----- Derecha [68, 64]\n",
      "Izquierda [68] ----- Derecha [64]\n",
      "izquierda[61], derecha[64, 68]\n",
      "[61, 64, 64]\n",
      "--------------------------------------------------\n",
      "izquierda[61], derecha[64, 68]\n",
      "[61, 64, 68]\n",
      "--------------------------------------------------\n",
      "Izquierda [4, 75] ----- Derecha [16, 66, 78]\n",
      "Izquierda [4] ----- Derecha [75]\n",
      "izquierda[4], derecha[75]\n",
      "[4, 75]\n",
      "--------------------------------------------------\n",
      "Izquierda [16] ----- Derecha [66, 78]\n",
      "Izquierda [66] ----- Derecha [78]\n",
      "izquierda[66], derecha[78]\n",
      "[66, 78]\n",
      "--------------------------------------------------\n",
      "izquierda[16], derecha[66, 78]\n",
      "[16, 66, 78]\n",
      "--------------------------------------------------\n",
      "izquierda[16], derecha[66, 78]\n",
      "[16, 66, 78]\n",
      "--------------------------------------------------\n",
      "izquierda[4, 75], derecha[16, 66, 78]\n",
      "[4, 16, 66, 75, 78]\n",
      "--------------------------------------------------\n",
      "[4, 6, 16, 61, 64, 66, 68, 75, 78, 98]\n"
     ]
    }
   ],
   "source": [
    "import random\n",
    "\n",
    "def ordenamiento_por_mezcla(lista):\n",
    "    if len(lista) > 1:\n",
    "        medio = len(lista) // 2\n",
    "        #Sección 1, dividir las listas en listas cada vez más pequeñas hasta que esten ordenadas por definición\n",
    "        #Dividir la lista en izquierdo y derecho\n",
    "        izquierda = lista[:medio]\n",
    "        derecha = lista[medio:]\n",
    "        #Vamos a mostrar que hay en la izquierda y en la derecha\n",
    "        print('Izquierda', izquierda, '-'*5, 'Derecha', derecha)\n",
    "        #Hasta esta parte, hay crecimiento logaritmico -> El problema se vuelve cada vez más chiquito\n",
    "\n",
    "        #LLamada recursiva en cada mitad -> Se ejecuta hasta que queden listas de un solo tamaño\n",
    "        ordenamiento_por_mezcla(izquierda)\n",
    "        ordenamiento_por_mezcla(derecha)\n",
    "\n",
    "        #Iteradores para poder recorrer las sublistas (izquierda y derecha)\n",
    "        i = 0\n",
    "        j = 0\n",
    "\n",
    "        #Iterador en la lista principal\n",
    "        k = 0\n",
    "\n",
    "        #Cuándo ya no pueden volverse más pequeñas, comenzamos a comparar los elementos\n",
    "\n",
    "        #Generar las comparaciones entre las listas, y verificar si se pueden comparar\n",
    "        while i < len(izquierda) and j < len(derecha):\n",
    "            #Ciclo para reconstruir la lista, asignar las listas\n",
    "            if izquierda[i] < derecha[j]:\n",
    "                lista[k] = izquierda[i]\n",
    "                i += 1\n",
    "            else:\n",
    "                lista[k] = derecha[j]\n",
    "                j += 1\n",
    "\n",
    "            k+=1\n",
    "\n",
    "        #Ciclo while \n",
    "        while i < len(izquierda):\n",
    "            #Asignar el k, al indice donde se encuentra la izquierda\n",
    "            lista[k] = izquierda[i]\n",
    "            #Aumentar los iteradores\n",
    "            i += 1\n",
    "            k += 1\n",
    "\n",
    "        while j < len(derecha):\n",
    "            lista[k] = derecha[j]\n",
    "\n",
    "            #Aumentar los iteradores\n",
    "            j += 1\n",
    "            k += 1\n",
    "\n",
    "        #Ver las listas\n",
    "            print(f'izquierda{izquierda}, derecha{derecha}')\n",
    "            print(lista)\n",
    "            print('-' * 50)\n",
    "\n",
    "    #Siempre se usará lo que sobra para poder reordenar cada vez más las pequeñas sublistas\n",
    "    return lista\n",
    "\n",
    "\n",
    "#Obtener el tamaño de la lista\n",
    "tamanio_de_lista = int(input('¿Cuál es el tamaño de la lista?: '))\n",
    "\n",
    "#Generar la lista aleatoria\n",
    "lista = [random.randint(0, 100) for i in range(tamanio_de_lista)]\n",
    "print(lista)\n",
    "print('-' * 20)\n",
    "\n",
    "#Aplicar el ordenamiento por mezcla\n",
    "lista_ordenada = ordenamiento_por_mezcla(lista)\n",
    "print(lista_ordenada)"
   ]
  }
 ],
 "metadata": {
  "kernelspec": {
   "display_name": "Python 3",
   "language": "python",
   "name": "python3"
  },
  "language_info": {
   "codemirror_mode": {
    "name": "ipython",
    "version": 3
   },
   "file_extension": ".py",
   "mimetype": "text/x-python",
   "name": "python",
   "nbconvert_exporter": "python",
   "pygments_lexer": "ipython3",
   "version": "3.10.11"
  }
 },
 "nbformat": 4,
 "nbformat_minor": 2
}
